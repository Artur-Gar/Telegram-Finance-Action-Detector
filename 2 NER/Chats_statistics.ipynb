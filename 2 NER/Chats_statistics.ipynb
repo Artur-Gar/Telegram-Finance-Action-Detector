{
 "cells": [
  {
   "cell_type": "code",
   "execution_count": 1,
   "metadata": {},
   "outputs": [],
   "source": [
    "import pandas as pd\n",
    "import numpy as np\n",
    "import spacy\n",
    "import json\n",
    "from tqdm.notebook import tqdm\n",
    "import glob\n",
    "import plotly_express as px\n",
    "\n",
    "from nlp_modules.ner.spacy_find_ners import find_ner_firms\n",
    "from nlp_modules.ner.ner_firms_matching import get_most_possible_firm"
   ]
  },
  {
   "cell_type": "code",
   "execution_count": null,
   "metadata": {},
   "outputs": [
    {
     "data": {
      "application/vnd.jupyter.widget-view+json": {
       "model_id": "c8ab45395a7543fa9fca4c0be2664d0d",
       "version_major": 2,
       "version_minor": 0
      },
      "text/plain": [
       "  0%|          | 0/92 [00:00<?, ?it/s]"
      ]
     },
     "metadata": {},
     "output_type": "display_data"
    }
   ],
   "source": [
    "### Configs\n",
    "\n",
    "# ticker symbols and their name variations\n",
    "df_ner_firms = pd.read_excel(\"data/firms_NER_dataset_flatten.xlsx\")\n",
    "nlp_rus = spacy.load('ru_core_news_lg')\n",
    "filter_value = 0.8\n",
    "\n",
    "path_df = \".../1 Parsing/data\"\n",
    "# paths to all excels in the folder\n",
    "all_paths = glob.glob(path_df + \"/*.xlsx\")\n",
    "# concatenate all excels with parsed data\n",
    "from_folder = []\n",
    "for filepath in tqdm(all_paths):\n",
    "    df = pd.read_excel(filepath, index_col=None, header=0)\n",
    "    from_folder.append(df)\n",
    "\n",
    "df = pd.concat(from_folder, axis=0, ignore_index=True)"
   ]
  },
  {
   "cell_type": "code",
   "execution_count": 3,
   "metadata": {},
   "outputs": [
    {
     "data": {
      "text/html": [
       "<div>\n",
       "<style scoped>\n",
       "    .dataframe tbody tr th:only-of-type {\n",
       "        vertical-align: middle;\n",
       "    }\n",
       "\n",
       "    .dataframe tbody tr th {\n",
       "        vertical-align: top;\n",
       "    }\n",
       "\n",
       "    .dataframe thead th {\n",
       "        text-align: right;\n",
       "    }\n",
       "</style>\n",
       "<table border=\"1\" class=\"dataframe\">\n",
       "  <thead>\n",
       "    <tr style=\"text-align: right;\">\n",
       "      <th></th>\n",
       "      <th>date</th>\n",
       "      <th>count</th>\n",
       "    </tr>\n",
       "  </thead>\n",
       "  <tbody>\n",
       "    <tr>\n",
       "      <th>0</th>\n",
       "      <td>2024-05-01</td>\n",
       "      <td>34</td>\n",
       "    </tr>\n",
       "    <tr>\n",
       "      <th>1</th>\n",
       "      <td>2024-05-02</td>\n",
       "      <td>135</td>\n",
       "    </tr>\n",
       "    <tr>\n",
       "      <th>2</th>\n",
       "      <td>2024-05-03</td>\n",
       "      <td>112</td>\n",
       "    </tr>\n",
       "    <tr>\n",
       "      <th>3</th>\n",
       "      <td>2024-05-04</td>\n",
       "      <td>15</td>\n",
       "    </tr>\n",
       "    <tr>\n",
       "      <th>4</th>\n",
       "      <td>2024-05-05</td>\n",
       "      <td>28</td>\n",
       "    </tr>\n",
       "    <tr>\n",
       "      <th>...</th>\n",
       "      <td>...</td>\n",
       "      <td>...</td>\n",
       "    </tr>\n",
       "    <tr>\n",
       "      <th>87</th>\n",
       "      <td>2024-07-27</td>\n",
       "      <td>27</td>\n",
       "    </tr>\n",
       "    <tr>\n",
       "      <th>88</th>\n",
       "      <td>2024-07-28</td>\n",
       "      <td>22</td>\n",
       "    </tr>\n",
       "    <tr>\n",
       "      <th>89</th>\n",
       "      <td>2024-07-29</td>\n",
       "      <td>157</td>\n",
       "    </tr>\n",
       "    <tr>\n",
       "      <th>90</th>\n",
       "      <td>2024-07-30</td>\n",
       "      <td>195</td>\n",
       "    </tr>\n",
       "    <tr>\n",
       "      <th>91</th>\n",
       "      <td>2024-07-31</td>\n",
       "      <td>113</td>\n",
       "    </tr>\n",
       "  </tbody>\n",
       "</table>\n",
       "<p>92 rows × 2 columns</p>\n",
       "</div>"
      ],
      "text/plain": [
       "         date  count\n",
       "0  2024-05-01     34\n",
       "1  2024-05-02    135\n",
       "2  2024-05-03    112\n",
       "3  2024-05-04     15\n",
       "4  2024-05-05     28\n",
       "..        ...    ...\n",
       "87 2024-07-27     27\n",
       "88 2024-07-28     22\n",
       "89 2024-07-29    157\n",
       "90 2024-07-30    195\n",
       "91 2024-07-31    113\n",
       "\n",
       "[92 rows x 2 columns]"
      ]
     },
     "execution_count": 3,
     "metadata": {},
     "output_type": "execute_result"
    }
   ],
   "source": [
    "# Message count by day\n",
    "df.groupby(['date'])['date'].count().reset_index(name='count')"
   ]
  },
  {
   "cell_type": "code",
   "execution_count": 4,
   "metadata": {},
   "outputs": [
    {
     "data": {
      "text/html": [
       "<div>\n",
       "<style scoped>\n",
       "    .dataframe tbody tr th:only-of-type {\n",
       "        vertical-align: middle;\n",
       "    }\n",
       "\n",
       "    .dataframe tbody tr th {\n",
       "        vertical-align: top;\n",
       "    }\n",
       "\n",
       "    .dataframe thead th {\n",
       "        text-align: right;\n",
       "    }\n",
       "</style>\n",
       "<table border=\"1\" class=\"dataframe\">\n",
       "  <thead>\n",
       "    <tr style=\"text-align: right;\">\n",
       "      <th></th>\n",
       "      <th>chat</th>\n",
       "      <th>date</th>\n",
       "      <th>time</th>\n",
       "      <th>text</th>\n",
       "      <th>text_id</th>\n",
       "      <th>security_id</th>\n",
       "      <th>matching_score</th>\n",
       "    </tr>\n",
       "  </thead>\n",
       "  <tbody>\n",
       "    <tr>\n",
       "      <th>0</th>\n",
       "      <td>cozytrade_1</td>\n",
       "      <td>2024-05-01</td>\n",
       "      <td>21:22:22</td>\n",
       "      <td>☀️ Начинается набор в закрытый канал «Уютный к...</td>\n",
       "      <td>-1001485074571_6689</td>\n",
       "      <td>None</td>\n",
       "      <td>None</td>\n",
       "    </tr>\n",
       "    <tr>\n",
       "      <th>1</th>\n",
       "      <td>cozytrade_1</td>\n",
       "      <td>2024-05-01</td>\n",
       "      <td>14:56:24</td>\n",
       "      <td>🧩 Праздники - время фантазий.\\n\\n— 🔮 Вчера инд...</td>\n",
       "      <td>-1001485074571_6688</td>\n",
       "      <td>None</td>\n",
       "      <td>None</td>\n",
       "    </tr>\n",
       "    <tr>\n",
       "      <th>2</th>\n",
       "      <td>kuzmlab</td>\n",
       "      <td>2024-05-01</td>\n",
       "      <td>23:38:45</td>\n",
       "      <td>Любопытно прочитать свои посты двухлетней давн...</td>\n",
       "      <td>-1001241408755_7540</td>\n",
       "      <td>None</td>\n",
       "      <td>None</td>\n",
       "    </tr>\n",
       "    <tr>\n",
       "      <th>3</th>\n",
       "      <td>kuzmlab</td>\n",
       "      <td>2024-05-01</td>\n",
       "      <td>10:53:57</td>\n",
       "      <td>Мир Труд Май всем, хотя с миром сейчас явная п...</td>\n",
       "      <td>-1001241408755_7539</td>\n",
       "      <td>None</td>\n",
       "      <td>None</td>\n",
       "    </tr>\n",
       "    <tr>\n",
       "      <th>4</th>\n",
       "      <td>mozgovikresearch</td>\n",
       "      <td>2024-05-01</td>\n",
       "      <td>22:00:47</td>\n",
       "      <td>Инвестиционно-спекулятивный портфель 30.04.202...</td>\n",
       "      <td>-1001298248713_1783</td>\n",
       "      <td>None</td>\n",
       "      <td>None</td>\n",
       "    </tr>\n",
       "    <tr>\n",
       "      <th>...</th>\n",
       "      <td>...</td>\n",
       "      <td>...</td>\n",
       "      <td>...</td>\n",
       "      <td>...</td>\n",
       "      <td>...</td>\n",
       "      <td>...</td>\n",
       "      <td>...</td>\n",
       "    </tr>\n",
       "    <tr>\n",
       "      <th>10805</th>\n",
       "      <td>razb0rka</td>\n",
       "      <td>2024-07-31</td>\n",
       "      <td>10:39:47</td>\n",
       "      <td>RAZB0RKA отчёта НОРНИКЕЛЬ по РСБУ 2кв'24. Банк...</td>\n",
       "      <td>-1001707166728_2645</td>\n",
       "      <td>None</td>\n",
       "      <td>None</td>\n",
       "    </tr>\n",
       "    <tr>\n",
       "      <th>10806</th>\n",
       "      <td>razb0rka</td>\n",
       "      <td>2024-07-31</td>\n",
       "      <td>08:36:46</td>\n",
       "      <td>МЕЧЕЛ результаты дочек по РСБУ 1п'24 🧮\\n\\nОтчё...</td>\n",
       "      <td>-1001707166728_2644</td>\n",
       "      <td>None</td>\n",
       "      <td>None</td>\n",
       "    </tr>\n",
       "    <tr>\n",
       "      <th>10807</th>\n",
       "      <td>truecon</td>\n",
       "      <td>2024-07-31</td>\n",
       "      <td>15:06:16</td>\n",
       "      <td>#еврозона #ЕЦБ #инфляция #ставки\\n\\nЕврозона: ...</td>\n",
       "      <td>-1001344892461_3759</td>\n",
       "      <td>None</td>\n",
       "      <td>None</td>\n",
       "    </tr>\n",
       "    <tr>\n",
       "      <th>10808</th>\n",
       "      <td>truecon</td>\n",
       "      <td>2024-07-31</td>\n",
       "      <td>08:38:40</td>\n",
       "      <td>#BOJ #Япония #ставки #JPY #инфляция \\n\\nБанк Я...</td>\n",
       "      <td>-1001344892461_3756</td>\n",
       "      <td>None</td>\n",
       "      <td>None</td>\n",
       "    </tr>\n",
       "    <tr>\n",
       "      <th>10809</th>\n",
       "      <td>atlant_signals</td>\n",
       "      <td>2024-07-31</td>\n",
       "      <td>11:26:11</td>\n",
       "      <td>Вышел отчет ПАО #Татнефть за 2-й квартал по РС...</td>\n",
       "      <td>-1001155666448_753</td>\n",
       "      <td>None</td>\n",
       "      <td>None</td>\n",
       "    </tr>\n",
       "  </tbody>\n",
       "</table>\n",
       "<p>10810 rows × 7 columns</p>\n",
       "</div>"
      ],
      "text/plain": [
       "                   chat       date      time  \\\n",
       "0           cozytrade_1 2024-05-01  21:22:22   \n",
       "1           cozytrade_1 2024-05-01  14:56:24   \n",
       "2               kuzmlab 2024-05-01  23:38:45   \n",
       "3               kuzmlab 2024-05-01  10:53:57   \n",
       "4      mozgovikresearch 2024-05-01  22:00:47   \n",
       "...                 ...        ...       ...   \n",
       "10805          razb0rka 2024-07-31  10:39:47   \n",
       "10806          razb0rka 2024-07-31  08:36:46   \n",
       "10807           truecon 2024-07-31  15:06:16   \n",
       "10808           truecon 2024-07-31  08:38:40   \n",
       "10809    atlant_signals 2024-07-31  11:26:11   \n",
       "\n",
       "                                                    text              text_id  \\\n",
       "0      ☀️ Начинается набор в закрытый канал «Уютный к...  -1001485074571_6689   \n",
       "1      🧩 Праздники - время фантазий.\\n\\n— 🔮 Вчера инд...  -1001485074571_6688   \n",
       "2      Любопытно прочитать свои посты двухлетней давн...  -1001241408755_7540   \n",
       "3      Мир Труд Май всем, хотя с миром сейчас явная п...  -1001241408755_7539   \n",
       "4      Инвестиционно-спекулятивный портфель 30.04.202...  -1001298248713_1783   \n",
       "...                                                  ...                  ...   \n",
       "10805  RAZB0RKA отчёта НОРНИКЕЛЬ по РСБУ 2кв'24. Банк...  -1001707166728_2645   \n",
       "10806  МЕЧЕЛ результаты дочек по РСБУ 1п'24 🧮\\n\\nОтчё...  -1001707166728_2644   \n",
       "10807  #еврозона #ЕЦБ #инфляция #ставки\\n\\nЕврозона: ...  -1001344892461_3759   \n",
       "10808  #BOJ #Япония #ставки #JPY #инфляция \\n\\nБанк Я...  -1001344892461_3756   \n",
       "10809  Вышел отчет ПАО #Татнефть за 2-й квартал по РС...   -1001155666448_753   \n",
       "\n",
       "      security_id matching_score  \n",
       "0            None           None  \n",
       "1            None           None  \n",
       "2            None           None  \n",
       "3            None           None  \n",
       "4            None           None  \n",
       "...           ...            ...  \n",
       "10805        None           None  \n",
       "10806        None           None  \n",
       "10807        None           None  \n",
       "10808        None           None  \n",
       "10809        None           None  \n",
       "\n",
       "[10810 rows x 7 columns]"
      ]
     },
     "execution_count": 4,
     "metadata": {},
     "output_type": "execute_result"
    }
   ],
   "source": [
    "df_process = df.copy().loc[:,['chat', 'date', 'time','text', 'text_id']]\n",
    "df_process['chat'] = df['chat'].apply(lambda x: json.loads(x)['username'])\n",
    "\n",
    "df_process['security_id'] = np.full(df_process.shape[0], None)\n",
    "df_process['matching_score'] = np.full(df_process.shape[0], None)\n",
    "\n",
    "df_process"
   ]
  },
  {
   "cell_type": "code",
   "execution_count": 5,
   "metadata": {},
   "outputs": [
    {
     "data": {
      "application/vnd.jupyter.widget-view+json": {
       "model_id": "b2304440e2154d789e6d8234eed29c89",
       "version_major": 2,
       "version_minor": 0
      },
      "text/plain": [
       "  0%|          | 0/10810 [00:00<?, ?it/s]"
      ]
     },
     "metadata": {},
     "output_type": "display_data"
    }
   ],
   "source": [
    "# Define NERs\n",
    "for i in tqdm(range(df_process.shape[0])):\n",
    "\n",
    "    if df_process.loc[i,'text'] is not np.nan:\n",
    "        # found tickers\n",
    "        ner_tickers = find_ner_firms(df_process.loc[i,'text'], nlp_rus)\n",
    "        if ner_tickers:\n",
    "            securities = []\n",
    "            # each ticker should be counted only once, even if it occurs multiple times\n",
    "            for ner in list(set(ner_tickers)):\n",
    "                # obtain most matching tickers\n",
    "                securities.append(get_most_possible_firm(ner, df_ner_firms, cols_to_match = ['securityid', 'firm_name']))  \n",
    "            \n",
    "            df_process.at[i,'security_id'] = [obj['securityid'] for obj in securities]\n",
    "            df_process.at[i,'matching_score'] = [obj['matching_score'] for obj in securities]\n",
    "        else:\n",
    "            pass"
   ]
  },
  {
   "cell_type": "code",
   "execution_count": 7,
   "metadata": {},
   "outputs": [
    {
     "data": {
      "text/html": [
       "<div>\n",
       "<style scoped>\n",
       "    .dataframe tbody tr th:only-of-type {\n",
       "        vertical-align: middle;\n",
       "    }\n",
       "\n",
       "    .dataframe tbody tr th {\n",
       "        vertical-align: top;\n",
       "    }\n",
       "\n",
       "    .dataframe thead th {\n",
       "        text-align: right;\n",
       "    }\n",
       "</style>\n",
       "<table border=\"1\" class=\"dataframe\">\n",
       "  <thead>\n",
       "    <tr style=\"text-align: right;\">\n",
       "      <th></th>\n",
       "      <th>chat</th>\n",
       "      <th>date</th>\n",
       "      <th>time</th>\n",
       "      <th>text</th>\n",
       "      <th>text_id</th>\n",
       "      <th>security_id</th>\n",
       "      <th>matching_score</th>\n",
       "    </tr>\n",
       "  </thead>\n",
       "  <tbody>\n",
       "    <tr>\n",
       "      <th>0</th>\n",
       "      <td>cozytrade_1</td>\n",
       "      <td>2024-05-01</td>\n",
       "      <td>21:22:22</td>\n",
       "      <td>☀️ Начинается набор в закрытый канал «Уютный к...</td>\n",
       "      <td>-1001485074571_6689</td>\n",
       "      <td>[UKUZ]</td>\n",
       "      <td>[0.6956521739130435]</td>\n",
       "    </tr>\n",
       "    <tr>\n",
       "      <th>1</th>\n",
       "      <td>cozytrade_1</td>\n",
       "      <td>2024-05-01</td>\n",
       "      <td>14:56:24</td>\n",
       "      <td>🧩 Праздники - время фантазий.\\n\\n— 🔮 Вчера инд...</td>\n",
       "      <td>-1001485074571_6688</td>\n",
       "      <td>[SOFL, MOEX]</td>\n",
       "      <td>[0.5, 0.8]</td>\n",
       "    </tr>\n",
       "    <tr>\n",
       "      <th>2</th>\n",
       "      <td>kuzmlab</td>\n",
       "      <td>2024-05-01</td>\n",
       "      <td>23:38:45</td>\n",
       "      <td>Любопытно прочитать свои посты двухлетней давн...</td>\n",
       "      <td>-1001241408755_7540</td>\n",
       "      <td>None</td>\n",
       "      <td>None</td>\n",
       "    </tr>\n",
       "    <tr>\n",
       "      <th>3</th>\n",
       "      <td>kuzmlab</td>\n",
       "      <td>2024-05-01</td>\n",
       "      <td>10:53:57</td>\n",
       "      <td>Мир Труд Май всем, хотя с миром сейчас явная п...</td>\n",
       "      <td>-1001241408755_7539</td>\n",
       "      <td>[TCSG]</td>\n",
       "      <td>[0.6111111111111112]</td>\n",
       "    </tr>\n",
       "    <tr>\n",
       "      <th>4</th>\n",
       "      <td>mozgovikresearch</td>\n",
       "      <td>2024-05-01</td>\n",
       "      <td>22:00:47</td>\n",
       "      <td>Инвестиционно-спекулятивный портфель 30.04.202...</td>\n",
       "      <td>-1001298248713_1783</td>\n",
       "      <td>None</td>\n",
       "      <td>None</td>\n",
       "    </tr>\n",
       "  </tbody>\n",
       "</table>\n",
       "</div>"
      ],
      "text/plain": [
       "               chat       date      time  \\\n",
       "0       cozytrade_1 2024-05-01  21:22:22   \n",
       "1       cozytrade_1 2024-05-01  14:56:24   \n",
       "2           kuzmlab 2024-05-01  23:38:45   \n",
       "3           kuzmlab 2024-05-01  10:53:57   \n",
       "4  mozgovikresearch 2024-05-01  22:00:47   \n",
       "\n",
       "                                                text              text_id  \\\n",
       "0  ☀️ Начинается набор в закрытый канал «Уютный к...  -1001485074571_6689   \n",
       "1  🧩 Праздники - время фантазий.\\n\\n— 🔮 Вчера инд...  -1001485074571_6688   \n",
       "2  Любопытно прочитать свои посты двухлетней давн...  -1001241408755_7540   \n",
       "3  Мир Труд Май всем, хотя с миром сейчас явная п...  -1001241408755_7539   \n",
       "4  Инвестиционно-спекулятивный портфель 30.04.202...  -1001298248713_1783   \n",
       "\n",
       "    security_id        matching_score  \n",
       "0        [UKUZ]  [0.6956521739130435]  \n",
       "1  [SOFL, MOEX]            [0.5, 0.8]  \n",
       "2          None                  None  \n",
       "3        [TCSG]  [0.6111111111111112]  \n",
       "4          None                  None  "
      ]
     },
     "execution_count": 7,
     "metadata": {},
     "output_type": "execute_result"
    }
   ],
   "source": [
    "df_process.head(5)"
   ]
  },
  {
   "cell_type": "code",
   "execution_count": 8,
   "metadata": {},
   "outputs": [],
   "source": [
    "# cleanly expand the cells containing multiple tickers into individual rows\n",
    "\n",
    "# set the columns we want to keep unchanged as the index\n",
    "df_process_indecies = df_process.set_index(['chat', 'date', 'time', 'text', 'text_id'])\n",
    "df_process = df_process_indecies.apply(lambda x: x.explode()).reset_index().dropna()\n",
    "\n",
    "filter_ = df_process['matching_score'] > 0.8 # filter_value\n",
    "df_final = df_process[filter_]"
   ]
  },
  {
   "cell_type": "code",
   "execution_count": 9,
   "metadata": {},
   "outputs": [
    {
     "data": {
      "text/html": [
       "<div>\n",
       "<style scoped>\n",
       "    .dataframe tbody tr th:only-of-type {\n",
       "        vertical-align: middle;\n",
       "    }\n",
       "\n",
       "    .dataframe tbody tr th {\n",
       "        vertical-align: top;\n",
       "    }\n",
       "\n",
       "    .dataframe thead th {\n",
       "        text-align: right;\n",
       "    }\n",
       "</style>\n",
       "<table border=\"1\" class=\"dataframe\">\n",
       "  <thead>\n",
       "    <tr style=\"text-align: right;\">\n",
       "      <th></th>\n",
       "      <th>chat</th>\n",
       "      <th>date</th>\n",
       "      <th>time</th>\n",
       "      <th>text</th>\n",
       "      <th>text_id</th>\n",
       "      <th>security_id</th>\n",
       "      <th>matching_score</th>\n",
       "    </tr>\n",
       "  </thead>\n",
       "  <tbody>\n",
       "    <tr>\n",
       "      <th>16</th>\n",
       "      <td>birzhevikstocksofficial2</td>\n",
       "      <td>2024-05-01</td>\n",
       "      <td>20:57:05</td>\n",
       "      <td>⚡️🇷🇺 Новость: под санкции Сша попала группа \"А...</td>\n",
       "      <td>-1001313313883_21401</td>\n",
       "      <td>ASTR</td>\n",
       "      <td>1.0</td>\n",
       "    </tr>\n",
       "    <tr>\n",
       "      <th>22</th>\n",
       "      <td>rynok_znania</td>\n",
       "      <td>2024-05-01</td>\n",
       "      <td>16:03:18</td>\n",
       "      <td>Если серьезно, то, конечно же, в День труда не...</td>\n",
       "      <td>-1001823599276_4304</td>\n",
       "      <td>MOEX</td>\n",
       "      <td>0.875</td>\n",
       "    </tr>\n",
       "    <tr>\n",
       "      <th>41</th>\n",
       "      <td>invest_budka</td>\n",
       "      <td>2024-05-01</td>\n",
       "      <td>00:47:20</td>\n",
       "      <td>Итоги апреля 2024\\n\\nАпрель я провёл на работе...</td>\n",
       "      <td>-1001190535599_701</td>\n",
       "      <td>GAZP</td>\n",
       "      <td>0.933333</td>\n",
       "    </tr>\n",
       "    <tr>\n",
       "      <th>42</th>\n",
       "      <td>invest_budka</td>\n",
       "      <td>2024-05-01</td>\n",
       "      <td>00:47:20</td>\n",
       "      <td>Итоги апреля 2024\\n\\nАпрель я провёл на работе...</td>\n",
       "      <td>-1001190535599_701</td>\n",
       "      <td>SBER</td>\n",
       "      <td>1.0</td>\n",
       "    </tr>\n",
       "    <tr>\n",
       "      <th>45</th>\n",
       "      <td>razb0rka</td>\n",
       "      <td>2024-05-01</td>\n",
       "      <td>15:03:21</td>\n",
       "      <td>RAZB0RKA отчёта X5 по МСФО 1кв'24. Ускоряются!...</td>\n",
       "      <td>-1001707166728_2498</td>\n",
       "      <td>FIVE</td>\n",
       "      <td>1.0</td>\n",
       "    </tr>\n",
       "  </tbody>\n",
       "</table>\n",
       "</div>"
      ],
      "text/plain": [
       "                        chat       date      time  \\\n",
       "16  birzhevikstocksofficial2 2024-05-01  20:57:05   \n",
       "22              rynok_znania 2024-05-01  16:03:18   \n",
       "41              invest_budka 2024-05-01  00:47:20   \n",
       "42              invest_budka 2024-05-01  00:47:20   \n",
       "45                  razb0rka 2024-05-01  15:03:21   \n",
       "\n",
       "                                                 text               text_id  \\\n",
       "16  ⚡️🇷🇺 Новость: под санкции Сша попала группа \"А...  -1001313313883_21401   \n",
       "22  Если серьезно, то, конечно же, в День труда не...   -1001823599276_4304   \n",
       "41  Итоги апреля 2024\\n\\nАпрель я провёл на работе...    -1001190535599_701   \n",
       "42  Итоги апреля 2024\\n\\nАпрель я провёл на работе...    -1001190535599_701   \n",
       "45  RAZB0RKA отчёта X5 по МСФО 1кв'24. Ускоряются!...   -1001707166728_2498   \n",
       "\n",
       "   security_id matching_score  \n",
       "16        ASTR            1.0  \n",
       "22        MOEX          0.875  \n",
       "41        GAZP       0.933333  \n",
       "42        SBER            1.0  \n",
       "45        FIVE            1.0  "
      ]
     },
     "execution_count": 9,
     "metadata": {},
     "output_type": "execute_result"
    }
   ],
   "source": [
    "df_final.head(5)"
   ]
  },
  {
   "cell_type": "code",
   "execution_count": null,
   "metadata": {},
   "outputs": [],
   "source": [
    "# save data\n",
    "#df_final.to_excel('data/parsed_and_extracted_tickers.xlsx')"
   ]
  },
  {
   "cell_type": "code",
   "execution_count": 10,
   "metadata": {},
   "outputs": [
    {
     "data": {
      "application/vnd.plotly.v1+json": {
       "config": {
        "plotlyServerURL": "https://plot.ly"
       },
       "data": [
        {
         "domain": {
          "x": [
           0,
           1
          ],
          "y": [
           0,
           1
          ]
         },
         "hoverinfo": "label+percent",
         "hovertemplate": "security_id=%{label}<br>count=%{value}<extra></extra>",
         "labels": [
          "AFKS",
          "AFLT",
          "AGRO",
          "ALRS",
          "CBOM",
          "CHMF",
          "CIAN",
          "ENPG",
          "EUTR",
          "FEES",
          "FESH",
          "FIVE",
          "FLOT",
          "GAZP",
          "GMKN",
          "HYDR",
          "IRAO",
          "LKOH",
          "LSNG",
          "MAGN",
          "MGNT",
          "MOEX",
          "MSNG",
          "MTLR",
          "MTSS",
          "MVID",
          "NLMK",
          "NMTP",
          "NVTK",
          "OZON",
          "PHOR",
          "PIKK",
          "POSI",
          "RNFT",
          "ROSB",
          "ROSN",
          "RTKM",
          "RUSI",
          "SBER",
          "SELG",
          "SFIN",
          "SIBN",
          "SMLT",
          "SNGS",
          "SVCB",
          "TATN",
          "TCSG",
          "TRMK",
          "TRNF",
          "UGLD",
          "UNAC",
          "UPRO",
          "VKCO",
          "VTBR",
          "YNDX"
         ],
         "legendgroup": "",
         "name": "",
         "showlegend": true,
         "textinfo": "value",
         "type": "pie",
         "values": [
          73,
          133,
          11,
          25,
          11,
          11,
          12,
          45,
          16,
          28,
          16,
          14,
          26,
          493,
          57,
          25,
          47,
          59,
          26,
          57,
          128,
          961,
          27,
          31,
          104,
          16,
          65,
          14,
          50,
          71,
          30,
          24,
          18,
          20,
          14,
          153,
          47,
          27,
          218,
          23,
          14,
          51,
          12,
          145,
          56,
          99,
          97,
          15,
          21,
          14,
          18,
          25,
          39,
          214,
          96
         ]
        }
       ],
       "layout": {
        "height": 700,
        "legend": {
         "tracegroupgap": 0
        },
        "margin": {
         "t": 60
        },
        "template": {
         "data": {
          "bar": [
           {
            "error_x": {
             "color": "#2a3f5f"
            },
            "error_y": {
             "color": "#2a3f5f"
            },
            "marker": {
             "line": {
              "color": "#E5ECF6",
              "width": 0.5
             },
             "pattern": {
              "fillmode": "overlay",
              "size": 10,
              "solidity": 0.2
             }
            },
            "type": "bar"
           }
          ],
          "barpolar": [
           {
            "marker": {
             "line": {
              "color": "#E5ECF6",
              "width": 0.5
             },
             "pattern": {
              "fillmode": "overlay",
              "size": 10,
              "solidity": 0.2
             }
            },
            "type": "barpolar"
           }
          ],
          "carpet": [
           {
            "aaxis": {
             "endlinecolor": "#2a3f5f",
             "gridcolor": "white",
             "linecolor": "white",
             "minorgridcolor": "white",
             "startlinecolor": "#2a3f5f"
            },
            "baxis": {
             "endlinecolor": "#2a3f5f",
             "gridcolor": "white",
             "linecolor": "white",
             "minorgridcolor": "white",
             "startlinecolor": "#2a3f5f"
            },
            "type": "carpet"
           }
          ],
          "choropleth": [
           {
            "colorbar": {
             "outlinewidth": 0,
             "ticks": ""
            },
            "type": "choropleth"
           }
          ],
          "contour": [
           {
            "colorbar": {
             "outlinewidth": 0,
             "ticks": ""
            },
            "colorscale": [
             [
              0,
              "#0d0887"
             ],
             [
              0.1111111111111111,
              "#46039f"
             ],
             [
              0.2222222222222222,
              "#7201a8"
             ],
             [
              0.3333333333333333,
              "#9c179e"
             ],
             [
              0.4444444444444444,
              "#bd3786"
             ],
             [
              0.5555555555555556,
              "#d8576b"
             ],
             [
              0.6666666666666666,
              "#ed7953"
             ],
             [
              0.7777777777777778,
              "#fb9f3a"
             ],
             [
              0.8888888888888888,
              "#fdca26"
             ],
             [
              1,
              "#f0f921"
             ]
            ],
            "type": "contour"
           }
          ],
          "contourcarpet": [
           {
            "colorbar": {
             "outlinewidth": 0,
             "ticks": ""
            },
            "type": "contourcarpet"
           }
          ],
          "heatmap": [
           {
            "colorbar": {
             "outlinewidth": 0,
             "ticks": ""
            },
            "colorscale": [
             [
              0,
              "#0d0887"
             ],
             [
              0.1111111111111111,
              "#46039f"
             ],
             [
              0.2222222222222222,
              "#7201a8"
             ],
             [
              0.3333333333333333,
              "#9c179e"
             ],
             [
              0.4444444444444444,
              "#bd3786"
             ],
             [
              0.5555555555555556,
              "#d8576b"
             ],
             [
              0.6666666666666666,
              "#ed7953"
             ],
             [
              0.7777777777777778,
              "#fb9f3a"
             ],
             [
              0.8888888888888888,
              "#fdca26"
             ],
             [
              1,
              "#f0f921"
             ]
            ],
            "type": "heatmap"
           }
          ],
          "heatmapgl": [
           {
            "colorbar": {
             "outlinewidth": 0,
             "ticks": ""
            },
            "colorscale": [
             [
              0,
              "#0d0887"
             ],
             [
              0.1111111111111111,
              "#46039f"
             ],
             [
              0.2222222222222222,
              "#7201a8"
             ],
             [
              0.3333333333333333,
              "#9c179e"
             ],
             [
              0.4444444444444444,
              "#bd3786"
             ],
             [
              0.5555555555555556,
              "#d8576b"
             ],
             [
              0.6666666666666666,
              "#ed7953"
             ],
             [
              0.7777777777777778,
              "#fb9f3a"
             ],
             [
              0.8888888888888888,
              "#fdca26"
             ],
             [
              1,
              "#f0f921"
             ]
            ],
            "type": "heatmapgl"
           }
          ],
          "histogram": [
           {
            "marker": {
             "pattern": {
              "fillmode": "overlay",
              "size": 10,
              "solidity": 0.2
             }
            },
            "type": "histogram"
           }
          ],
          "histogram2d": [
           {
            "colorbar": {
             "outlinewidth": 0,
             "ticks": ""
            },
            "colorscale": [
             [
              0,
              "#0d0887"
             ],
             [
              0.1111111111111111,
              "#46039f"
             ],
             [
              0.2222222222222222,
              "#7201a8"
             ],
             [
              0.3333333333333333,
              "#9c179e"
             ],
             [
              0.4444444444444444,
              "#bd3786"
             ],
             [
              0.5555555555555556,
              "#d8576b"
             ],
             [
              0.6666666666666666,
              "#ed7953"
             ],
             [
              0.7777777777777778,
              "#fb9f3a"
             ],
             [
              0.8888888888888888,
              "#fdca26"
             ],
             [
              1,
              "#f0f921"
             ]
            ],
            "type": "histogram2d"
           }
          ],
          "histogram2dcontour": [
           {
            "colorbar": {
             "outlinewidth": 0,
             "ticks": ""
            },
            "colorscale": [
             [
              0,
              "#0d0887"
             ],
             [
              0.1111111111111111,
              "#46039f"
             ],
             [
              0.2222222222222222,
              "#7201a8"
             ],
             [
              0.3333333333333333,
              "#9c179e"
             ],
             [
              0.4444444444444444,
              "#bd3786"
             ],
             [
              0.5555555555555556,
              "#d8576b"
             ],
             [
              0.6666666666666666,
              "#ed7953"
             ],
             [
              0.7777777777777778,
              "#fb9f3a"
             ],
             [
              0.8888888888888888,
              "#fdca26"
             ],
             [
              1,
              "#f0f921"
             ]
            ],
            "type": "histogram2dcontour"
           }
          ],
          "mesh3d": [
           {
            "colorbar": {
             "outlinewidth": 0,
             "ticks": ""
            },
            "type": "mesh3d"
           }
          ],
          "parcoords": [
           {
            "line": {
             "colorbar": {
              "outlinewidth": 0,
              "ticks": ""
             }
            },
            "type": "parcoords"
           }
          ],
          "pie": [
           {
            "automargin": true,
            "type": "pie"
           }
          ],
          "scatter": [
           {
            "fillpattern": {
             "fillmode": "overlay",
             "size": 10,
             "solidity": 0.2
            },
            "type": "scatter"
           }
          ],
          "scatter3d": [
           {
            "line": {
             "colorbar": {
              "outlinewidth": 0,
              "ticks": ""
             }
            },
            "marker": {
             "colorbar": {
              "outlinewidth": 0,
              "ticks": ""
             }
            },
            "type": "scatter3d"
           }
          ],
          "scattercarpet": [
           {
            "marker": {
             "colorbar": {
              "outlinewidth": 0,
              "ticks": ""
             }
            },
            "type": "scattercarpet"
           }
          ],
          "scattergeo": [
           {
            "marker": {
             "colorbar": {
              "outlinewidth": 0,
              "ticks": ""
             }
            },
            "type": "scattergeo"
           }
          ],
          "scattergl": [
           {
            "marker": {
             "colorbar": {
              "outlinewidth": 0,
              "ticks": ""
             }
            },
            "type": "scattergl"
           }
          ],
          "scattermapbox": [
           {
            "marker": {
             "colorbar": {
              "outlinewidth": 0,
              "ticks": ""
             }
            },
            "type": "scattermapbox"
           }
          ],
          "scatterpolar": [
           {
            "marker": {
             "colorbar": {
              "outlinewidth": 0,
              "ticks": ""
             }
            },
            "type": "scatterpolar"
           }
          ],
          "scatterpolargl": [
           {
            "marker": {
             "colorbar": {
              "outlinewidth": 0,
              "ticks": ""
             }
            },
            "type": "scatterpolargl"
           }
          ],
          "scatterternary": [
           {
            "marker": {
             "colorbar": {
              "outlinewidth": 0,
              "ticks": ""
             }
            },
            "type": "scatterternary"
           }
          ],
          "surface": [
           {
            "colorbar": {
             "outlinewidth": 0,
             "ticks": ""
            },
            "colorscale": [
             [
              0,
              "#0d0887"
             ],
             [
              0.1111111111111111,
              "#46039f"
             ],
             [
              0.2222222222222222,
              "#7201a8"
             ],
             [
              0.3333333333333333,
              "#9c179e"
             ],
             [
              0.4444444444444444,
              "#bd3786"
             ],
             [
              0.5555555555555556,
              "#d8576b"
             ],
             [
              0.6666666666666666,
              "#ed7953"
             ],
             [
              0.7777777777777778,
              "#fb9f3a"
             ],
             [
              0.8888888888888888,
              "#fdca26"
             ],
             [
              1,
              "#f0f921"
             ]
            ],
            "type": "surface"
           }
          ],
          "table": [
           {
            "cells": {
             "fill": {
              "color": "#EBF0F8"
             },
             "line": {
              "color": "white"
             }
            },
            "header": {
             "fill": {
              "color": "#C8D4E3"
             },
             "line": {
              "color": "white"
             }
            },
            "type": "table"
           }
          ]
         },
         "layout": {
          "annotationdefaults": {
           "arrowcolor": "#2a3f5f",
           "arrowhead": 0,
           "arrowwidth": 1
          },
          "autotypenumbers": "strict",
          "coloraxis": {
           "colorbar": {
            "outlinewidth": 0,
            "ticks": ""
           }
          },
          "colorscale": {
           "diverging": [
            [
             0,
             "#8e0152"
            ],
            [
             0.1,
             "#c51b7d"
            ],
            [
             0.2,
             "#de77ae"
            ],
            [
             0.3,
             "#f1b6da"
            ],
            [
             0.4,
             "#fde0ef"
            ],
            [
             0.5,
             "#f7f7f7"
            ],
            [
             0.6,
             "#e6f5d0"
            ],
            [
             0.7,
             "#b8e186"
            ],
            [
             0.8,
             "#7fbc41"
            ],
            [
             0.9,
             "#4d9221"
            ],
            [
             1,
             "#276419"
            ]
           ],
           "sequential": [
            [
             0,
             "#0d0887"
            ],
            [
             0.1111111111111111,
             "#46039f"
            ],
            [
             0.2222222222222222,
             "#7201a8"
            ],
            [
             0.3333333333333333,
             "#9c179e"
            ],
            [
             0.4444444444444444,
             "#bd3786"
            ],
            [
             0.5555555555555556,
             "#d8576b"
            ],
            [
             0.6666666666666666,
             "#ed7953"
            ],
            [
             0.7777777777777778,
             "#fb9f3a"
            ],
            [
             0.8888888888888888,
             "#fdca26"
            ],
            [
             1,
             "#f0f921"
            ]
           ],
           "sequentialminus": [
            [
             0,
             "#0d0887"
            ],
            [
             0.1111111111111111,
             "#46039f"
            ],
            [
             0.2222222222222222,
             "#7201a8"
            ],
            [
             0.3333333333333333,
             "#9c179e"
            ],
            [
             0.4444444444444444,
             "#bd3786"
            ],
            [
             0.5555555555555556,
             "#d8576b"
            ],
            [
             0.6666666666666666,
             "#ed7953"
            ],
            [
             0.7777777777777778,
             "#fb9f3a"
            ],
            [
             0.8888888888888888,
             "#fdca26"
            ],
            [
             1,
             "#f0f921"
            ]
           ]
          },
          "colorway": [
           "#636efa",
           "#EF553B",
           "#00cc96",
           "#ab63fa",
           "#FFA15A",
           "#19d3f3",
           "#FF6692",
           "#B6E880",
           "#FF97FF",
           "#FECB52"
          ],
          "font": {
           "color": "#2a3f5f"
          },
          "geo": {
           "bgcolor": "white",
           "lakecolor": "white",
           "landcolor": "#E5ECF6",
           "showlakes": true,
           "showland": true,
           "subunitcolor": "white"
          },
          "hoverlabel": {
           "align": "left"
          },
          "hovermode": "closest",
          "mapbox": {
           "style": "light"
          },
          "paper_bgcolor": "white",
          "plot_bgcolor": "#E5ECF6",
          "polar": {
           "angularaxis": {
            "gridcolor": "white",
            "linecolor": "white",
            "ticks": ""
           },
           "bgcolor": "#E5ECF6",
           "radialaxis": {
            "gridcolor": "white",
            "linecolor": "white",
            "ticks": ""
           }
          },
          "scene": {
           "xaxis": {
            "backgroundcolor": "#E5ECF6",
            "gridcolor": "white",
            "gridwidth": 2,
            "linecolor": "white",
            "showbackground": true,
            "ticks": "",
            "zerolinecolor": "white"
           },
           "yaxis": {
            "backgroundcolor": "#E5ECF6",
            "gridcolor": "white",
            "gridwidth": 2,
            "linecolor": "white",
            "showbackground": true,
            "ticks": "",
            "zerolinecolor": "white"
           },
           "zaxis": {
            "backgroundcolor": "#E5ECF6",
            "gridcolor": "white",
            "gridwidth": 2,
            "linecolor": "white",
            "showbackground": true,
            "ticks": "",
            "zerolinecolor": "white"
           }
          },
          "shapedefaults": {
           "line": {
            "color": "#2a3f5f"
           }
          },
          "ternary": {
           "aaxis": {
            "gridcolor": "white",
            "linecolor": "white",
            "ticks": ""
           },
           "baxis": {
            "gridcolor": "white",
            "linecolor": "white",
            "ticks": ""
           },
           "bgcolor": "#E5ECF6",
           "caxis": {
            "gridcolor": "white",
            "linecolor": "white",
            "ticks": ""
           }
          },
          "title": {
           "x": 0.05
          },
          "xaxis": {
           "automargin": true,
           "gridcolor": "white",
           "linecolor": "white",
           "ticks": "",
           "title": {
            "standoff": 15
           },
           "zerolinecolor": "white",
           "zerolinewidth": 2
          },
          "yaxis": {
           "automargin": true,
           "gridcolor": "white",
           "linecolor": "white",
           "ticks": "",
           "title": {
            "standoff": 15
           },
           "zerolinecolor": "white",
           "zerolinewidth": 2
          }
         }
        },
        "width": 1000
       }
      }
     },
     "metadata": {},
     "output_type": "display_data"
    }
   ],
   "source": [
    "# ticker mention frequency chart: \n",
    "# shows the total number of mentions for each ticker to identify the most discussed securities.\n",
    "df_1 = df_final.groupby(['security_id'])['security_id'].count().reset_index(name='count')\n",
    "\n",
    "filter_= df_1['count'] > 10\n",
    "df_1 = df_1[filter_]\n",
    "\n",
    "fig = px.pie(df_1, values ='count', names = 'security_id', width=1000, height=700)\n",
    "\n",
    "fig.update_traces(hoverinfo='label+percent', textinfo='value')\n",
    "fig.show()"
   ]
  },
  {
   "cell_type": "code",
   "execution_count": 11,
   "metadata": {},
   "outputs": [
    {
     "data": {
      "application/vnd.plotly.v1+json": {
       "config": {
        "plotlyServerURL": "https://plot.ly"
       },
       "data": [
        {
         "domain": {
          "x": [
           0,
           1
          ],
          "y": [
           0,
           1
          ]
         },
         "hoverinfo": "label+percent",
         "hovertemplate": "chat_ticker_date_count=%{label}<br>count=%{value}<extra></extra>",
         "labels": [
          "SNGS_2024-07-18_BigBro_moex_65",
          "TATN_2024-06-20_BigBro_moex_22",
          "SNGS_2024-05-15_BigBro_moex_22",
          "MGNT_2024-05-31_BigBro_moex_20",
          "MOEX_2024-06-13_BigBro_moex_16",
          "SNGS_2024-07-17_BigBro_moex_15",
          "MGNT_2024-05-21_BigBro_moex_12",
          "MGNT_2024-06-03_BigBro_moex_11",
          "SBER_2024-07-09_BigBro_moex_10",
          "MSNG_2024-07-17_BigBro_moex_10",
          "SNGS_2024-05-13_BigBro_moex_10",
          "MGNT_2024-06-28_BigBro_moex_9",
          "ROSN_2024-05-30_BigBro_moex_9",
          "MOEX_2024-06-12_truecon_9",
          "UPRO_2024-05-07_BigBro_moex_9",
          "GAZP_2024-05-02_BigBro_moex_9",
          "MOEX_2024-07-03_BigBro_moex_9",
          "VTBR_2024-07-30_BigBro_moex_9",
          "GAZP_2024-05-23_BigBro_moex_8",
          "YNDX_2024-07-30_BigBro_moex_8",
          "GAZP_2024-06-28_BigBro_moex_8",
          "MOEX_2024-07-11_BigBro_moex_8",
          "VTBR_2024-07-04_BigBro_moex_8",
          "VTBR_2024-05-29_BigBro_moex_8",
          "MOEX_2024-06-14_BigBro_moex_7",
          "MOEX_2024-06-14_rynok_znania_7",
          "GAZP_2024-05-02_birzhevikstocksofficial2_7",
          "GAZP_2024-06-07_BigBro_moex_7",
          "MGNT_2024-05-15_BigBro_moex_7",
          "AFLT_2024-06-06_BigBro_moex_7",
          "GAZP_2024-05-21_smartlabnews_7",
          "SVCB_2024-07-11_moexwolf_7",
          "TATN_2024-05-24_BigBro_moex_7",
          "MOEX_2024-06-28_BigBro_moex_7",
          "MOEX_2024-07-15_stockoffinvest_6",
          "PHOR_2024-06-04_BigBro_moex_6",
          "GAZP_2024-07-03_birzhevikstocksofficial2_6",
          "MOEX_2024-07-05_BigBro_moex_6",
          "VTBR_2024-07-15_BigBro_moex_6",
          "MOEX_2024-06-05_BigBro_moex_6",
          "GMKN_2024-07-29_BigBro_moex_6",
          "MOEX_2024-05-31_professorPumpkin_6",
          "MOEX_2024-05-22_BigBro_moex_6",
          "MSNG_2024-07-29_BigBro_moex_6",
          "MAGN_2024-07-18_BigBro_moex_6",
          "MOEX_2024-07-15_smartlabnews_6",
          "ROSN_2024-06-28_BigBro_moex_6",
          "TCSG_2024-05-16_birzhevikstocksofficial2_6"
         ],
         "legendgroup": "",
         "name": "",
         "showlegend": true,
         "textinfo": "value",
         "type": "pie",
         "values": [
          65,
          22,
          22,
          20,
          16,
          15,
          12,
          11,
          10,
          10,
          10,
          9,
          9,
          9,
          9,
          9,
          9,
          9,
          8,
          8,
          8,
          8,
          8,
          8,
          7,
          7,
          7,
          7,
          7,
          7,
          7,
          7,
          7,
          7,
          6,
          6,
          6,
          6,
          6,
          6,
          6,
          6,
          6,
          6,
          6,
          6,
          6,
          6
         ]
        }
       ],
       "layout": {
        "height": 700,
        "legend": {
         "tracegroupgap": 0
        },
        "margin": {
         "t": 60
        },
        "template": {
         "data": {
          "bar": [
           {
            "error_x": {
             "color": "#2a3f5f"
            },
            "error_y": {
             "color": "#2a3f5f"
            },
            "marker": {
             "line": {
              "color": "#E5ECF6",
              "width": 0.5
             },
             "pattern": {
              "fillmode": "overlay",
              "size": 10,
              "solidity": 0.2
             }
            },
            "type": "bar"
           }
          ],
          "barpolar": [
           {
            "marker": {
             "line": {
              "color": "#E5ECF6",
              "width": 0.5
             },
             "pattern": {
              "fillmode": "overlay",
              "size": 10,
              "solidity": 0.2
             }
            },
            "type": "barpolar"
           }
          ],
          "carpet": [
           {
            "aaxis": {
             "endlinecolor": "#2a3f5f",
             "gridcolor": "white",
             "linecolor": "white",
             "minorgridcolor": "white",
             "startlinecolor": "#2a3f5f"
            },
            "baxis": {
             "endlinecolor": "#2a3f5f",
             "gridcolor": "white",
             "linecolor": "white",
             "minorgridcolor": "white",
             "startlinecolor": "#2a3f5f"
            },
            "type": "carpet"
           }
          ],
          "choropleth": [
           {
            "colorbar": {
             "outlinewidth": 0,
             "ticks": ""
            },
            "type": "choropleth"
           }
          ],
          "contour": [
           {
            "colorbar": {
             "outlinewidth": 0,
             "ticks": ""
            },
            "colorscale": [
             [
              0,
              "#0d0887"
             ],
             [
              0.1111111111111111,
              "#46039f"
             ],
             [
              0.2222222222222222,
              "#7201a8"
             ],
             [
              0.3333333333333333,
              "#9c179e"
             ],
             [
              0.4444444444444444,
              "#bd3786"
             ],
             [
              0.5555555555555556,
              "#d8576b"
             ],
             [
              0.6666666666666666,
              "#ed7953"
             ],
             [
              0.7777777777777778,
              "#fb9f3a"
             ],
             [
              0.8888888888888888,
              "#fdca26"
             ],
             [
              1,
              "#f0f921"
             ]
            ],
            "type": "contour"
           }
          ],
          "contourcarpet": [
           {
            "colorbar": {
             "outlinewidth": 0,
             "ticks": ""
            },
            "type": "contourcarpet"
           }
          ],
          "heatmap": [
           {
            "colorbar": {
             "outlinewidth": 0,
             "ticks": ""
            },
            "colorscale": [
             [
              0,
              "#0d0887"
             ],
             [
              0.1111111111111111,
              "#46039f"
             ],
             [
              0.2222222222222222,
              "#7201a8"
             ],
             [
              0.3333333333333333,
              "#9c179e"
             ],
             [
              0.4444444444444444,
              "#bd3786"
             ],
             [
              0.5555555555555556,
              "#d8576b"
             ],
             [
              0.6666666666666666,
              "#ed7953"
             ],
             [
              0.7777777777777778,
              "#fb9f3a"
             ],
             [
              0.8888888888888888,
              "#fdca26"
             ],
             [
              1,
              "#f0f921"
             ]
            ],
            "type": "heatmap"
           }
          ],
          "heatmapgl": [
           {
            "colorbar": {
             "outlinewidth": 0,
             "ticks": ""
            },
            "colorscale": [
             [
              0,
              "#0d0887"
             ],
             [
              0.1111111111111111,
              "#46039f"
             ],
             [
              0.2222222222222222,
              "#7201a8"
             ],
             [
              0.3333333333333333,
              "#9c179e"
             ],
             [
              0.4444444444444444,
              "#bd3786"
             ],
             [
              0.5555555555555556,
              "#d8576b"
             ],
             [
              0.6666666666666666,
              "#ed7953"
             ],
             [
              0.7777777777777778,
              "#fb9f3a"
             ],
             [
              0.8888888888888888,
              "#fdca26"
             ],
             [
              1,
              "#f0f921"
             ]
            ],
            "type": "heatmapgl"
           }
          ],
          "histogram": [
           {
            "marker": {
             "pattern": {
              "fillmode": "overlay",
              "size": 10,
              "solidity": 0.2
             }
            },
            "type": "histogram"
           }
          ],
          "histogram2d": [
           {
            "colorbar": {
             "outlinewidth": 0,
             "ticks": ""
            },
            "colorscale": [
             [
              0,
              "#0d0887"
             ],
             [
              0.1111111111111111,
              "#46039f"
             ],
             [
              0.2222222222222222,
              "#7201a8"
             ],
             [
              0.3333333333333333,
              "#9c179e"
             ],
             [
              0.4444444444444444,
              "#bd3786"
             ],
             [
              0.5555555555555556,
              "#d8576b"
             ],
             [
              0.6666666666666666,
              "#ed7953"
             ],
             [
              0.7777777777777778,
              "#fb9f3a"
             ],
             [
              0.8888888888888888,
              "#fdca26"
             ],
             [
              1,
              "#f0f921"
             ]
            ],
            "type": "histogram2d"
           }
          ],
          "histogram2dcontour": [
           {
            "colorbar": {
             "outlinewidth": 0,
             "ticks": ""
            },
            "colorscale": [
             [
              0,
              "#0d0887"
             ],
             [
              0.1111111111111111,
              "#46039f"
             ],
             [
              0.2222222222222222,
              "#7201a8"
             ],
             [
              0.3333333333333333,
              "#9c179e"
             ],
             [
              0.4444444444444444,
              "#bd3786"
             ],
             [
              0.5555555555555556,
              "#d8576b"
             ],
             [
              0.6666666666666666,
              "#ed7953"
             ],
             [
              0.7777777777777778,
              "#fb9f3a"
             ],
             [
              0.8888888888888888,
              "#fdca26"
             ],
             [
              1,
              "#f0f921"
             ]
            ],
            "type": "histogram2dcontour"
           }
          ],
          "mesh3d": [
           {
            "colorbar": {
             "outlinewidth": 0,
             "ticks": ""
            },
            "type": "mesh3d"
           }
          ],
          "parcoords": [
           {
            "line": {
             "colorbar": {
              "outlinewidth": 0,
              "ticks": ""
             }
            },
            "type": "parcoords"
           }
          ],
          "pie": [
           {
            "automargin": true,
            "type": "pie"
           }
          ],
          "scatter": [
           {
            "fillpattern": {
             "fillmode": "overlay",
             "size": 10,
             "solidity": 0.2
            },
            "type": "scatter"
           }
          ],
          "scatter3d": [
           {
            "line": {
             "colorbar": {
              "outlinewidth": 0,
              "ticks": ""
             }
            },
            "marker": {
             "colorbar": {
              "outlinewidth": 0,
              "ticks": ""
             }
            },
            "type": "scatter3d"
           }
          ],
          "scattercarpet": [
           {
            "marker": {
             "colorbar": {
              "outlinewidth": 0,
              "ticks": ""
             }
            },
            "type": "scattercarpet"
           }
          ],
          "scattergeo": [
           {
            "marker": {
             "colorbar": {
              "outlinewidth": 0,
              "ticks": ""
             }
            },
            "type": "scattergeo"
           }
          ],
          "scattergl": [
           {
            "marker": {
             "colorbar": {
              "outlinewidth": 0,
              "ticks": ""
             }
            },
            "type": "scattergl"
           }
          ],
          "scattermapbox": [
           {
            "marker": {
             "colorbar": {
              "outlinewidth": 0,
              "ticks": ""
             }
            },
            "type": "scattermapbox"
           }
          ],
          "scatterpolar": [
           {
            "marker": {
             "colorbar": {
              "outlinewidth": 0,
              "ticks": ""
             }
            },
            "type": "scatterpolar"
           }
          ],
          "scatterpolargl": [
           {
            "marker": {
             "colorbar": {
              "outlinewidth": 0,
              "ticks": ""
             }
            },
            "type": "scatterpolargl"
           }
          ],
          "scatterternary": [
           {
            "marker": {
             "colorbar": {
              "outlinewidth": 0,
              "ticks": ""
             }
            },
            "type": "scatterternary"
           }
          ],
          "surface": [
           {
            "colorbar": {
             "outlinewidth": 0,
             "ticks": ""
            },
            "colorscale": [
             [
              0,
              "#0d0887"
             ],
             [
              0.1111111111111111,
              "#46039f"
             ],
             [
              0.2222222222222222,
              "#7201a8"
             ],
             [
              0.3333333333333333,
              "#9c179e"
             ],
             [
              0.4444444444444444,
              "#bd3786"
             ],
             [
              0.5555555555555556,
              "#d8576b"
             ],
             [
              0.6666666666666666,
              "#ed7953"
             ],
             [
              0.7777777777777778,
              "#fb9f3a"
             ],
             [
              0.8888888888888888,
              "#fdca26"
             ],
             [
              1,
              "#f0f921"
             ]
            ],
            "type": "surface"
           }
          ],
          "table": [
           {
            "cells": {
             "fill": {
              "color": "#EBF0F8"
             },
             "line": {
              "color": "white"
             }
            },
            "header": {
             "fill": {
              "color": "#C8D4E3"
             },
             "line": {
              "color": "white"
             }
            },
            "type": "table"
           }
          ]
         },
         "layout": {
          "annotationdefaults": {
           "arrowcolor": "#2a3f5f",
           "arrowhead": 0,
           "arrowwidth": 1
          },
          "autotypenumbers": "strict",
          "coloraxis": {
           "colorbar": {
            "outlinewidth": 0,
            "ticks": ""
           }
          },
          "colorscale": {
           "diverging": [
            [
             0,
             "#8e0152"
            ],
            [
             0.1,
             "#c51b7d"
            ],
            [
             0.2,
             "#de77ae"
            ],
            [
             0.3,
             "#f1b6da"
            ],
            [
             0.4,
             "#fde0ef"
            ],
            [
             0.5,
             "#f7f7f7"
            ],
            [
             0.6,
             "#e6f5d0"
            ],
            [
             0.7,
             "#b8e186"
            ],
            [
             0.8,
             "#7fbc41"
            ],
            [
             0.9,
             "#4d9221"
            ],
            [
             1,
             "#276419"
            ]
           ],
           "sequential": [
            [
             0,
             "#0d0887"
            ],
            [
             0.1111111111111111,
             "#46039f"
            ],
            [
             0.2222222222222222,
             "#7201a8"
            ],
            [
             0.3333333333333333,
             "#9c179e"
            ],
            [
             0.4444444444444444,
             "#bd3786"
            ],
            [
             0.5555555555555556,
             "#d8576b"
            ],
            [
             0.6666666666666666,
             "#ed7953"
            ],
            [
             0.7777777777777778,
             "#fb9f3a"
            ],
            [
             0.8888888888888888,
             "#fdca26"
            ],
            [
             1,
             "#f0f921"
            ]
           ],
           "sequentialminus": [
            [
             0,
             "#0d0887"
            ],
            [
             0.1111111111111111,
             "#46039f"
            ],
            [
             0.2222222222222222,
             "#7201a8"
            ],
            [
             0.3333333333333333,
             "#9c179e"
            ],
            [
             0.4444444444444444,
             "#bd3786"
            ],
            [
             0.5555555555555556,
             "#d8576b"
            ],
            [
             0.6666666666666666,
             "#ed7953"
            ],
            [
             0.7777777777777778,
             "#fb9f3a"
            ],
            [
             0.8888888888888888,
             "#fdca26"
            ],
            [
             1,
             "#f0f921"
            ]
           ]
          },
          "colorway": [
           "#636efa",
           "#EF553B",
           "#00cc96",
           "#ab63fa",
           "#FFA15A",
           "#19d3f3",
           "#FF6692",
           "#B6E880",
           "#FF97FF",
           "#FECB52"
          ],
          "font": {
           "color": "#2a3f5f"
          },
          "geo": {
           "bgcolor": "white",
           "lakecolor": "white",
           "landcolor": "#E5ECF6",
           "showlakes": true,
           "showland": true,
           "subunitcolor": "white"
          },
          "hoverlabel": {
           "align": "left"
          },
          "hovermode": "closest",
          "mapbox": {
           "style": "light"
          },
          "paper_bgcolor": "white",
          "plot_bgcolor": "#E5ECF6",
          "polar": {
           "angularaxis": {
            "gridcolor": "white",
            "linecolor": "white",
            "ticks": ""
           },
           "bgcolor": "#E5ECF6",
           "radialaxis": {
            "gridcolor": "white",
            "linecolor": "white",
            "ticks": ""
           }
          },
          "scene": {
           "xaxis": {
            "backgroundcolor": "#E5ECF6",
            "gridcolor": "white",
            "gridwidth": 2,
            "linecolor": "white",
            "showbackground": true,
            "ticks": "",
            "zerolinecolor": "white"
           },
           "yaxis": {
            "backgroundcolor": "#E5ECF6",
            "gridcolor": "white",
            "gridwidth": 2,
            "linecolor": "white",
            "showbackground": true,
            "ticks": "",
            "zerolinecolor": "white"
           },
           "zaxis": {
            "backgroundcolor": "#E5ECF6",
            "gridcolor": "white",
            "gridwidth": 2,
            "linecolor": "white",
            "showbackground": true,
            "ticks": "",
            "zerolinecolor": "white"
           }
          },
          "shapedefaults": {
           "line": {
            "color": "#2a3f5f"
           }
          },
          "ternary": {
           "aaxis": {
            "gridcolor": "white",
            "linecolor": "white",
            "ticks": ""
           },
           "baxis": {
            "gridcolor": "white",
            "linecolor": "white",
            "ticks": ""
           },
           "bgcolor": "#E5ECF6",
           "caxis": {
            "gridcolor": "white",
            "linecolor": "white",
            "ticks": ""
           }
          },
          "title": {
           "x": 0.05
          },
          "xaxis": {
           "automargin": true,
           "gridcolor": "white",
           "linecolor": "white",
           "ticks": "",
           "title": {
            "standoff": 15
           },
           "zerolinecolor": "white",
           "zerolinewidth": 2
          },
          "yaxis": {
           "automargin": true,
           "gridcolor": "white",
           "linecolor": "white",
           "ticks": "",
           "title": {
            "standoff": 15
           },
           "zerolinecolor": "white",
           "zerolinewidth": 2
          }
         }
        },
        "width": 1000
       }
      }
     },
     "metadata": {},
     "output_type": "display_data"
    }
   ],
   "source": [
    "# ticker mention frequency chart: \n",
    "# displays the frequency of ticker mentions broken down by date and chat to analyze activity over time and across sources.\n",
    "df_2 = df_final.groupby(['chat', 'security_id', 'date'])['security_id'].count().reset_index(name='count').sort_values(by='count', ascending=False)\n",
    "df_2['chat_ticker_date_count'] = df_2['security_id'] + np.full(df_2.shape[0], '_') + \\\n",
    "    df_2['date'].astype(str) + np.full(df_2.shape[0], '_') + \\\n",
    "    df_2['chat'].astype(str) + np.full(df_2.shape[0], '_') + \\\n",
    "    df_2['count'].astype(str)\n",
    "      \n",
    "\n",
    "filter_ = df_2['count']>5\n",
    "df_2 = df_2[filter_]\n",
    "fig = px.pie(df_2, values ='count', width=1000, height=700, names = 'chat_ticker_date_count')\n",
    "\n",
    "fig.update_traces(hoverinfo='label+percent', textinfo='value')\n",
    "fig.show()"
   ]
  }
 ],
 "metadata": {
  "kernelspec": {
   "display_name": "telegram_news",
   "language": "python",
   "name": "python3"
  },
  "language_info": {
   "codemirror_mode": {
    "name": "ipython",
    "version": 3
   },
   "file_extension": ".py",
   "mimetype": "text/x-python",
   "name": "python",
   "nbconvert_exporter": "python",
   "pygments_lexer": "ipython3",
   "version": "3.11.5"
  }
 },
 "nbformat": 4,
 "nbformat_minor": 2
}
