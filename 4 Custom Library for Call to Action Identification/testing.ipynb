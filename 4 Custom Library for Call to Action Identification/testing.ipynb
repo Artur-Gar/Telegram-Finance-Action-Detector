{
 "cells": [
  {
   "cell_type": "code",
   "execution_count": null,
   "metadata": {},
   "outputs": [],
   "source": [
    "from ners_and_calls_modules.identify_ners_and_calls import get_ners_and_calls"
   ]
  },
  {
   "cell_type": "code",
   "execution_count": null,
   "metadata": {},
   "outputs": [
    {
     "name": "stdout",
     "output_type": "stream",
     "text": [
      "credentials='NjYxODA2ZWUtZGQwMS00YTZjLTg3ZmItYzZkYjQ5YjBmZGEwOjA1ZmViODkwLTU2ZDItNGRmNS1iMjBjLTA5OGFhZmM5ZDNhOA==' scope='GIGACHAT_API_CORP' model='GigaChat-Pro' verify_ssl_certs=False profanity_check=False temperature=0.5 max_tokens=30\n"
     ]
    },
    {
     "data": {
      "text/html": [
       "<div>\n",
       "<style scoped>\n",
       "    .dataframe tbody tr th:only-of-type {\n",
       "        vertical-align: middle;\n",
       "    }\n",
       "\n",
       "    .dataframe tbody tr th {\n",
       "        vertical-align: top;\n",
       "    }\n",
       "\n",
       "    .dataframe thead th {\n",
       "        text-align: right;\n",
       "    }\n",
       "</style>\n",
       "<table border=\"1\" class=\"dataframe\">\n",
       "  <thead>\n",
       "    <tr style=\"text-align: right;\">\n",
       "      <th></th>\n",
       "      <th>text</th>\n",
       "      <th>NER</th>\n",
       "      <th>ticker</th>\n",
       "      <th>call</th>\n",
       "    </tr>\n",
       "  </thead>\n",
       "  <tbody>\n",
       "    <tr>\n",
       "      <th>0</th>\n",
       "      <td>США разрешили операции с российскими банками д...</td>\n",
       "      <td>ВТБ</td>\n",
       "      <td>VTBR</td>\n",
       "      <td>1</td>\n",
       "    </tr>\n",
       "    <tr>\n",
       "      <th>1</th>\n",
       "      <td>США разрешили операции с российскими банками д...</td>\n",
       "      <td>Сбербанка</td>\n",
       "      <td>SBER</td>\n",
       "      <td>0</td>\n",
       "    </tr>\n",
       "  </tbody>\n",
       "</table>\n",
       "</div>"
      ],
      "text/plain": [
       "                                                text        NER ticker  call\n",
       "0  США разрешили операции с российскими банками д...        ВТБ   VTBR     1\n",
       "1  США разрешили операции с российскими банками д...  Сбербанка   SBER     0"
      ]
     },
     "execution_count": 2,
     "metadata": {},
     "output_type": "execute_result"
    }
   ],
   "source": [
    "text = 'США разрешили операции с российскими банками для расчетов в сфере энергетики, включая ВТБ. Сбербанка остается под санкциями. Ну что, лонг первого?'\n",
    "get_ners_and_calls(text,0.8)"
   ]
  }
 ],
 "metadata": {
  "kernelspec": {
   "display_name": "telegram_news",
   "language": "python",
   "name": "python3"
  },
  "language_info": {
   "codemirror_mode": {
    "name": "ipython",
    "version": 3
   },
   "file_extension": ".py",
   "mimetype": "text/x-python",
   "name": "python",
   "nbconvert_exporter": "python",
   "pygments_lexer": "ipython3",
   "version": "3.11.5"
  }
 },
 "nbformat": 4,
 "nbformat_minor": 2
}
